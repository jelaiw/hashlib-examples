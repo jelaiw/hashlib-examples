{
 "cells": [
  {
   "cell_type": "code",
   "execution_count": 1,
   "metadata": {},
   "outputs": [],
   "source": [
    "from orders import validorder"
   ]
  },
  {
   "cell_type": "code",
   "execution_count": 2,
   "metadata": {},
   "outputs": [],
   "source": [
    "from collections import namedtuple\n",
    "PurchaseOrder = namedtuple('PurchaseOrder', 'id, date, items')\n",
    "LineItem = namedtuple('LineItem', 'kind, detail, amount, quantity', defaults=(1,))"
   ]
  },
  {
   "cell_type": "markdown",
   "metadata": {},
   "source": [
    "Happy path."
   ]
  },
  {
   "cell_type": "code",
   "execution_count": 3,
   "metadata": {},
   "outputs": [],
   "source": [
    "tv = LineItem(kind='product', detail='BigTV', amount=10000.00)\n",
    "paid = LineItem(kind='payment', detail='CC#12345', amount=10000.00)\n",
    "goodPO = PurchaseOrder(id='777', date='6/16/2022', items=[tv, paid])"
   ]
  },
  {
   "cell_type": "code",
   "execution_count": 4,
   "metadata": {},
   "outputs": [
    {
     "data": {
      "text/plain": [
       "[LineItem(kind='product', detail='BigTV', amount=10000.0, quantity=1)]"
      ]
     },
     "execution_count": 4,
     "metadata": {},
     "output_type": "execute_result"
    }
   ],
   "source": [
    "validorder(goodPO)"
   ]
  },
  {
   "cell_type": "code",
   "execution_count": 5,
   "metadata": {},
   "outputs": [
    {
     "data": {
      "text/plain": [
       "'Payment imbalance: $-10000.00.'"
      ]
     },
     "execution_count": 5,
     "metadata": {},
     "output_type": "execute_result"
    }
   ],
   "source": [
    "unpaidPO = PurchaseOrder(id='888', date='6/16/2022', items=[tv])\n",
    "validorder(unpaidPO)"
   ]
  },
  {
   "cell_type": "markdown",
   "metadata": {},
   "source": [
    "Steal stome TVs."
   ]
  },
  {
   "cell_type": "code",
   "execution_count": 6,
   "metadata": {},
   "outputs": [],
   "source": [
    "fake1 = LineItem(kind='payment', detail='FAKE', amount=1e30)\n",
    "fake2 = LineItem(kind='payment', detail='FAKE', amount=-1e30)\n",
    "tv = LineItem(kind='product', detail='BigTV', amount=10000.00, quantity=1000)"
   ]
  },
  {
   "cell_type": "code",
   "execution_count": 7,
   "metadata": {},
   "outputs": [],
   "source": [
    "nonpayment = [fake1, tv, fake2]\n",
    "fraudPO = PurchaseOrder(id='999', date='6/16/2022', items=nonpayment)"
   ]
  },
  {
   "cell_type": "code",
   "execution_count": 8,
   "metadata": {},
   "outputs": [
    {
     "data": {
      "text/plain": [
       "[LineItem(kind='product', detail='BigTV', amount=10000.0, quantity=1000)]"
      ]
     },
     "execution_count": 8,
     "metadata": {},
     "output_type": "execute_result"
    }
   ],
   "source": [
    "validorder(fraudPO)"
   ]
  },
  {
   "cell_type": "code",
   "execution_count": null,
   "metadata": {},
   "outputs": [],
   "source": []
  }
 ],
 "metadata": {
  "kernelspec": {
   "display_name": "Python 3",
   "language": "python",
   "name": "python3"
  },
  "language_info": {
   "codemirror_mode": {
    "name": "ipython",
    "version": 3
   },
   "file_extension": ".py",
   "mimetype": "text/x-python",
   "name": "python",
   "nbconvert_exporter": "python",
   "pygments_lexer": "ipython3",
   "version": "3.10.13"
  }
 },
 "nbformat": 4,
 "nbformat_minor": 2
}
